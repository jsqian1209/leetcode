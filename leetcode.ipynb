{
 "cells": [
  {
   "cell_type": "code",
   "execution_count": 7,
   "metadata": {},
   "outputs": [
    {
     "name": "stdout",
     "output_type": "stream",
     "text": [
      "[1, 2]\n"
     ]
    }
   ],
   "source": [
    "# Leetcode 1\n",
    "def twoSum(nums, target):\n",
    "    diction = {  }\n",
    "    for i in range(len(nums)):\n",
    "        if nums[i] in diction:\n",
    "            return [diction[nums[i]], i]\n",
    "        else:\n",
    "            diction[target - nums[i]] = i\n",
    "\n",
    "nums = [2, 7, 11, 15]\n",
    "target = 18\n",
    "\n",
    "print(twoSum(nums, target))"
   ]
  },
  {
   "cell_type": "code",
   "execution_count": 12,
   "metadata": {},
   "outputs": [
    {
     "name": "stdout",
     "output_type": "stream",
     "text": [
      "False\n"
     ]
    }
   ],
   "source": [
    "# Leetcode 20\n",
    "# A method based on \"Stack\"\n",
    "# KEY: 'stack' for store, 'dictionary' for compare\n",
    "def isValid(s):\n",
    "    \n",
    "    stack = [  ]\n",
    "    dictionary = {')':'(', ']':'[', '}':'{'}\n",
    "        \n",
    "    for mark in s:\n",
    "        if mark in dictionary.values():\n",
    "            stack.append(mark)\n",
    "        elif mark in dictionary.keys():\n",
    "            if stack == [] or dictionary[mark] != stack.pop():\n",
    "                return False\n",
    "        else: return false\n",
    "        \n",
    "    return stack == []\n",
    "\n",
    "s = '[{(){}}(){[}]'\n",
    "print(isValid(s))"
   ]
  },
  {
   "cell_type": "code",
   "execution_count": null,
   "metadata": {},
   "outputs": [],
   "source": [
    "  "
   ]
  }
 ],
 "metadata": {
  "kernelspec": {
   "display_name": "Python 3",
   "language": "python",
   "name": "python3"
  },
  "language_info": {
   "codemirror_mode": {
    "name": "ipython",
    "version": 3
   },
   "file_extension": ".py",
   "mimetype": "text/x-python",
   "name": "python",
   "nbconvert_exporter": "python",
   "pygments_lexer": "ipython3",
   "version": "3.6.5"
  }
 },
 "nbformat": 4,
 "nbformat_minor": 2
}
